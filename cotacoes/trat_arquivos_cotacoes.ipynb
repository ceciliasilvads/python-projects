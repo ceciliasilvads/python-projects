{
 "cells": [
  {
   "cell_type": "code",
   "execution_count": 2,
   "metadata": {},
   "outputs": [],
   "source": [
    "import pandas as pd\n",
    "def read_file(path, name_file, year_date, type_file):\n",
    "    _file = f'{path}{name_file}_{year_date}.{type_file}'\n",
    "    column_widths  = [(2,10),\n",
    "                    (10,12),\n",
    "                    (12,24),\n",
    "                    (27,39),\n",
    "                    (56,69),\n",
    "                    (69,82),\n",
    "                    (82,95),\n",
    "                    (108,121),\n",
    "                    (152,170),\n",
    "                    (170,188)\n",
    "    ]\n",
    "\n",
    "    column_names = ['data_pregao',\n",
    "                    'cod_bdi',\n",
    "                    'sigla_acao',\n",
    "                    'nome_acao',\n",
    "                    'preco_abertura',\n",
    "                    'preco_maximo',\n",
    "                    'preco_minimo',\n",
    "                    'preco_fechamento',\n",
    "                    'qtd_negocios',\n",
    "                    'volume_negocios'\n",
    "    ]\n",
    "\n",
    "    df = pd.read_fwf(_file, colspecs=column_widths, names=column_names, skiprows=1)\n",
    "\n",
    "    return df\n",
    "\n",
    "def trata_arquivo(df):\n",
    "    #Limpa nulos\n",
    "    df = df.drop(df[df.isna().any(axis=1)].index)\n",
    "\n",
    "    #Ajusta tipos de dados\n",
    "    df['data_pregao']      = pd.to_datetime(df['data_pregao'], format = '%Y%m%d')\n",
    "    df['preco_abertura']   = (df['preco_abertura']/100)\n",
    "    df['preco_maximo']     = (df['preco_maximo']/100)\n",
    "    df['preco_minimo']     = (df['preco_minimo']/100)\n",
    "    df['preco_fechamento'] = (df['preco_fechamento']/100)\n",
    "    df['qtd_negocios']     = df['qtd_negocios'].astype(int)\n",
    "    df['volume_negocios']  = df['volume_negocios'].astype(int)\n",
    "    \n",
    "    #Filtragem do lote padrão\n",
    "    df = df[df['cod_bdi'] == 2]\n",
    "\n",
    "    #Drop coluna cod_bdi\n",
    "    df = df.drop(['cod_bdi'], axis=1)\n",
    "\n",
    "    return df.to_csv('arquivo_tratado.csv')\n",
    "\n",
    "if __name__ == '__main__':\n",
    "    trata_arquivo(read_file('COTA','HIST', 'A2020','TXT'))"
   ]
  }
 ],
 "metadata": {
  "kernelspec": {
   "display_name": "Python 3",
   "language": "python",
   "name": "python3"
  },
  "language_info": {
   "codemirror_mode": {
    "name": "ipython",
    "version": 3
   },
   "file_extension": ".py",
   "mimetype": "text/x-python",
   "name": "python",
   "nbconvert_exporter": "python",
   "pygments_lexer": "ipython3",
   "version": "3.11.3"
  },
  "orig_nbformat": 4
 },
 "nbformat": 4,
 "nbformat_minor": 2
}
